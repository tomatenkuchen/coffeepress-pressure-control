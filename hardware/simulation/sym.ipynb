{
 "cells": [
  {
   "cell_type": "code",
   "execution_count": 1,
   "metadata": {},
   "outputs": [],
   "source": [
    "import sympy as sy"
   ]
  },
  {
   "cell_type": "code",
   "execution_count": 2,
   "metadata": {},
   "outputs": [],
   "source": [
    "v_p, v_n, v_in, v_out, I, R_1, R_2 , v_R1, v_R2 = sy.symbols(\"v_p, v_n, v_in, v_out, I, R_1, R_2, v_R1, v_R2\")"
   ]
  },
  {
   "cell_type": "code",
   "execution_count": 3,
   "metadata": {},
   "outputs": [],
   "source": [
    "e1 = v_in + v_R1 - v_n\n",
    "e2 = v_n + v_R2 - v_out"
   ]
  },
  {
   "cell_type": "code",
   "execution_count": 4,
   "metadata": {},
   "outputs": [
    {
     "data": {
      "text/latex": [
       "$\\displaystyle v_{n} - v_{out} + \\frac{R_{2} \\left(- v_{in} + v_{n}\\right)}{R_{1}}$"
      ],
      "text/plain": [
       "v_n - v_out + R_2*(-v_in + v_n)/R_1"
      ]
     },
     "execution_count": 4,
     "metadata": {},
     "output_type": "execute_result"
    }
   ],
   "source": [
    "e3 = e1 + e2\n",
    "e3 = e3.subs([(v_R1, R_1 * I), (v_R2, R_2 * I)])\n",
    "e3 = e3.subs(I, (v_n - v_in) / R_1)\n",
    "e3"
   ]
  },
  {
   "cell_type": "code",
   "execution_count": 7,
   "metadata": {},
   "outputs": [
    {
     "data": {
      "text/latex": [
       "$\\displaystyle \\frac{R_{1} v_{out} + R_{2} v_{in}}{R_{1} + R_{2}}$"
      ],
      "text/plain": [
       "(R_1*v_out + R_2*v_in)/(R_1 + R_2)"
      ]
     },
     "execution_count": 7,
     "metadata": {},
     "output_type": "execute_result"
    }
   ],
   "source": [
    "e4 = sy.solve(e3, v_n)[0]\n",
    "e4"
   ]
  },
  {
   "cell_type": "code",
   "execution_count": 9,
   "metadata": {},
   "outputs": [
    {
     "data": {
      "text/latex": [
       "$\\displaystyle 4.41987179487179$"
      ],
      "text/plain": [
       "4.41987179487179"
      ]
     },
     "execution_count": 9,
     "metadata": {},
     "output_type": "execute_result"
    }
   ],
   "source": [
    "e4.subs([(R_1, 1000), (R_2, 6800), (v_out, 0.475), (v_in, 5)])"
   ]
  }
 ],
 "metadata": {
  "kernelspec": {
   "display_name": "Python 3",
   "language": "python",
   "name": "python3"
  },
  "language_info": {
   "codemirror_mode": {
    "name": "ipython",
    "version": 3
   },
   "file_extension": ".py",
   "mimetype": "text/x-python",
   "name": "python",
   "nbconvert_exporter": "python",
   "pygments_lexer": "ipython3",
   "version": "3.11.2"
  }
 },
 "nbformat": 4,
 "nbformat_minor": 2
}
